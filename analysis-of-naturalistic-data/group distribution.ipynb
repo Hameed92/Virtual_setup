{
 "cells": [
  {
   "cell_type": "code",
   "execution_count": 1,
   "id": "8fe9020e",
   "metadata": {},
   "outputs": [],
   "source": [
    "import numpy as np\n",
    "import copy\n",
    "import pandas as pd\n",
    "import matplotlib.pyplot as plt\n",
    "import seaborn as sn\n",
    "import warnings\n",
    "warnings.filterwarnings('ignore')"
   ]
  },
  {
   "cell_type": "code",
   "execution_count": 2,
   "id": "30357a3c",
   "metadata": {},
   "outputs": [],
   "source": [
    "data=pd.read_csv('obsmat.txt', sep='  ', header=None, names=['frame_number', 'pedestrian_ID', 'pos_x', 'pos_z', 'pos_y', 'v_x', 'v_z', 'v_y'])"
   ]
  },
  {
   "cell_type": "code",
   "execution_count": 3,
   "id": "032dee22",
   "metadata": {},
   "outputs": [],
   "source": [
    "groups=pd.read_csv('groups.txt',sep=' ', names=['a','b','c','d','e','f'])"
   ]
  },
  {
   "cell_type": "code",
   "execution_count": 4,
   "id": "8cc525e3",
   "metadata": {},
   "outputs": [],
   "source": [
    "\n",
    "\n",
    "data['group_size'] = 0\n",
    "data['group_number'] = 0"
   ]
  },
  {
   "cell_type": "code",
   "execution_count": 5,
   "id": "162bde08",
   "metadata": {},
   "outputs": [],
   "source": [
    "groups['a']=groups['a'].astype(float)\n",
    "groups['b']=groups['b'].astype(float)\n",
    "groups['group_size'] =  groups.apply(lambda x: 6 - (x.isnull().sum()), axis='columns')\n",
    "groups['group_number'] = range(1,len(groups)+1)"
   ]
  },
  {
   "cell_type": "code",
   "execution_count": 6,
   "id": "7d61e20b",
   "metadata": {},
   "outputs": [
    {
     "data": {
      "text/html": [
       "<div>\n",
       "<style scoped>\n",
       "    .dataframe tbody tr th:only-of-type {\n",
       "        vertical-align: middle;\n",
       "    }\n",
       "\n",
       "    .dataframe tbody tr th {\n",
       "        vertical-align: top;\n",
       "    }\n",
       "\n",
       "    .dataframe thead th {\n",
       "        text-align: right;\n",
       "    }\n",
       "</style>\n",
       "<table border=\"1\" class=\"dataframe\">\n",
       "  <thead>\n",
       "    <tr style=\"text-align: right;\">\n",
       "      <th></th>\n",
       "      <th>a</th>\n",
       "      <th>b</th>\n",
       "      <th>c</th>\n",
       "      <th>d</th>\n",
       "      <th>e</th>\n",
       "      <th>f</th>\n",
       "      <th>group_size</th>\n",
       "      <th>group_number</th>\n",
       "    </tr>\n",
       "  </thead>\n",
       "  <tbody>\n",
       "    <tr>\n",
       "      <th>0</th>\n",
       "      <td>5.0</td>\n",
       "      <td>4.0</td>\n",
       "      <td>NaN</td>\n",
       "      <td>NaN</td>\n",
       "      <td>NaN</td>\n",
       "      <td>NaN</td>\n",
       "      <td>2</td>\n",
       "      <td>1</td>\n",
       "    </tr>\n",
       "    <tr>\n",
       "      <th>1</th>\n",
       "      <td>6.0</td>\n",
       "      <td>3.0</td>\n",
       "      <td>2.0</td>\n",
       "      <td>NaN</td>\n",
       "      <td>NaN</td>\n",
       "      <td>NaN</td>\n",
       "      <td>3</td>\n",
       "      <td>2</td>\n",
       "    </tr>\n",
       "    <tr>\n",
       "      <th>2</th>\n",
       "      <td>13.0</td>\n",
       "      <td>11.0</td>\n",
       "      <td>12.0</td>\n",
       "      <td>NaN</td>\n",
       "      <td>NaN</td>\n",
       "      <td>NaN</td>\n",
       "      <td>3</td>\n",
       "      <td>3</td>\n",
       "    </tr>\n",
       "    <tr>\n",
       "      <th>3</th>\n",
       "      <td>16.0</td>\n",
       "      <td>15.0</td>\n",
       "      <td>14.0</td>\n",
       "      <td>17.0</td>\n",
       "      <td>18.0</td>\n",
       "      <td>20.0</td>\n",
       "      <td>6</td>\n",
       "      <td>4</td>\n",
       "    </tr>\n",
       "    <tr>\n",
       "      <th>4</th>\n",
       "      <td>28.0</td>\n",
       "      <td>29.0</td>\n",
       "      <td>NaN</td>\n",
       "      <td>NaN</td>\n",
       "      <td>NaN</td>\n",
       "      <td>NaN</td>\n",
       "      <td>2</td>\n",
       "      <td>5</td>\n",
       "    </tr>\n",
       "  </tbody>\n",
       "</table>\n",
       "</div>"
      ],
      "text/plain": [
       "      a     b     c     d     e     f  group_size  group_number\n",
       "0   5.0   4.0   NaN   NaN   NaN   NaN           2             1\n",
       "1   6.0   3.0   2.0   NaN   NaN   NaN           3             2\n",
       "2  13.0  11.0  12.0   NaN   NaN   NaN           3             3\n",
       "3  16.0  15.0  14.0  17.0  18.0  20.0           6             4\n",
       "4  28.0  29.0   NaN   NaN   NaN   NaN           2             5"
      ]
     },
     "execution_count": 6,
     "metadata": {},
     "output_type": "execute_result"
    }
   ],
   "source": [
    "groups.head()"
   ]
  },
  {
   "cell_type": "code",
   "execution_count": 7,
   "id": "9e4282e8",
   "metadata": {},
   "outputs": [],
   "source": [
    "for i in range(len(data)):\n",
    "    for j in range(len(groups)):\n",
    "        if data.pedestrian_ID[i] == groups.a[j]:\n",
    "            data['group_size'][i] = groups['group_size'][j]\n",
    "        elif data.pedestrian_ID[i] == groups.b[j]:\n",
    "            data['group_size'][i] = groups['group_size'][j]\n",
    "        elif data.pedestrian_ID[i] == groups.c[j]:\n",
    "            data['group_size'][i] = groups['group_size'][j]\n",
    "        elif data.pedestrian_ID[i] == groups.d[j]:\n",
    "            data['group_size'][i] = groups['group_size'][j]\n",
    "        elif data.pedestrian_ID[i] == groups.e[j]:\n",
    "            data['group_size'][i] = groups['group_size'][j]\n",
    "        elif data.pedestrian_ID[i] == groups.f[j]:\n",
    "            data['group_size'][i] = groups['group_size'][j]\n",
    "\n",
    "            \n",
    "for i in range(len(data)):\n",
    "    for j in range(len(groups)):\n",
    "        if data.pedestrian_ID[i] == groups.a[j]:\n",
    "            data['group_number'][i] = groups['group_number'][j]\n",
    "        elif data.pedestrian_ID[i] == groups.b[j]:\n",
    "            data['group_number'][i] = groups['group_number'][j]\n",
    "        elif data.pedestrian_ID[i] == groups.c[j]:\n",
    "            data['group_number'][i] = groups['group_number'][j]\n",
    "        elif data.pedestrian_ID[i] == groups.d[j]:\n",
    "            data['group_number'][i] = groups['group_number'][j]\n",
    "        elif data.pedestrian_ID[i] == groups.e[j]:\n",
    "            data['group_number'][i] = groups['group_number'][j]\n",
    "        elif data.pedestrian_ID[i] == groups.f[j]:\n",
    "            data['group_number'][i] = groups['group_number'][j]\n",
    "            "
   ]
  },
  {
   "cell_type": "code",
   "execution_count": 8,
   "id": "474431a4",
   "metadata": {},
   "outputs": [],
   "source": [
    "data = data.drop(['pos_z', 'v_z'], axis=1)"
   ]
  },
  {
   "cell_type": "code",
   "execution_count": 9,
   "id": "7783fd34",
   "metadata": {},
   "outputs": [],
   "source": [
    "frames = []\n",
    "for i in range(1,368):\n",
    "    x = len(data[data['pedestrian_ID'] == i])\n",
    "    frames.append(x)"
   ]
  },
  {
   "cell_type": "code",
   "execution_count": 10,
   "id": "604add32",
   "metadata": {},
   "outputs": [
    {
     "data": {
      "text/plain": [
       "24.272479564032697"
      ]
     },
     "execution_count": 10,
     "metadata": {},
     "output_type": "execute_result"
    }
   ],
   "source": [
    "avg = sum(frames)/len(frames)\n",
    "avg"
   ]
  },
  {
   "cell_type": "code",
   "execution_count": 11,
   "id": "d504188a",
   "metadata": {},
   "outputs": [],
   "source": [
    "frameslist = data['frame_number'].unique().tolist()"
   ]
  },
  {
   "cell_type": "code",
   "execution_count": 12,
   "id": "6df6d285",
   "metadata": {},
   "outputs": [],
   "source": [
    "\n",
    "def divide_chunks(l, n):\n",
    "    for i in range(0, len(l), n):\n",
    "        yield l[i:i + n]"
   ]
  },
  {
   "cell_type": "code",
   "execution_count": 13,
   "id": "e43dde01",
   "metadata": {},
   "outputs": [],
   "source": [
    "x = list(divide_chunks(frameslist, 48))"
   ]
  },
  {
   "cell_type": "code",
   "execution_count": 14,
   "id": "610f7ac3",
   "metadata": {},
   "outputs": [],
   "source": [
    "list_of_group_numbers = []\n",
    "for i in range(len(x)):\n",
    "    chunked_dataset = data[data['frame_number'].isin(x[i])]\n",
    "    list_of_group_numbers.append(chunked_dataset[chunked_dataset['group_number'] != 0]['group_number'].unique().tolist() + len(chunked_dataset[chunked_dataset['group_number'] == 0]['pedestrian_ID'].unique().tolist()) * [0])"
   ]
  },
  {
   "cell_type": "code",
   "execution_count": 15,
   "id": "65d5b2c3",
   "metadata": {},
   "outputs": [
    {
     "data": {
      "text/plain": [
       "[[2, 1, 3, 0, 0, 0, 0, 0],\n",
       " [3, 4, 0, 0, 0, 0, 0, 0, 0, 0, 0, 0],\n",
       " [5, 6, 0, 0, 0, 0, 0, 0, 0, 0, 0],\n",
       " [0, 0, 0, 0, 0, 0],\n",
       " [7, 0, 0, 0, 0, 0, 0, 0],\n",
       " [8, 9, 0, 0, 0, 0, 0, 0, 0, 0, 0],\n",
       " [9, 10, 0, 0, 0, 0, 0, 0, 0, 0, 0],\n",
       " [11, 12, 0, 0, 0, 0, 0, 0, 0],\n",
       " [13, 14, 0, 0, 0, 0, 0, 0, 0, 0],\n",
       " [13, 14, 15, 16, 18, 17, 0, 0, 0, 0, 0, 0, 0, 0, 0, 0, 0, 0, 0, 0],\n",
       " [16, 18, 17, 0, 0, 0, 0, 0, 0, 0, 0],\n",
       " [19, 0, 0, 0, 0, 0, 0, 0, 0, 0],\n",
       " [20, 21, 0, 0, 0, 0, 0, 0, 0, 0, 0, 0],\n",
       " [21, 22, 23, 0, 0, 0, 0, 0, 0, 0, 0],\n",
       " [23, 24, 25, 0, 0, 0, 0, 0, 0, 0, 0],\n",
       " [25, 0, 0, 0, 0, 0, 0, 0, 0, 0],\n",
       " [26, 0, 0, 0, 0, 0, 0, 0, 0, 0, 0, 0],\n",
       " [26, 28, 27, 29, 0, 0, 0, 0, 0, 0, 0, 0, 0, 0, 0, 0, 0],\n",
       " [28, 27, 29, 0, 0, 0, 0, 0, 0, 0, 0, 0, 0, 0, 0],\n",
       " [31, 30, 0, 0, 0, 0, 0, 0, 0, 0, 0, 0, 0, 0, 0],\n",
       " [31, 30, 32, 33, 34, 0, 0, 0, 0, 0, 0, 0, 0, 0, 0, 0, 0, 0],\n",
       " [33, 34, 35, 0, 0, 0, 0, 0, 0, 0, 0, 0],\n",
       " [35, 38, 36, 37, 0, 0, 0, 0, 0, 0, 0, 0, 0, 0, 0, 0, 0],\n",
       " [38, 36, 37, 39, 40, 0, 0, 0, 0, 0, 0, 0, 0, 0],\n",
       " [40,\n",
       "  37,\n",
       "  41,\n",
       "  43,\n",
       "  42,\n",
       "  44,\n",
       "  0,\n",
       "  0,\n",
       "  0,\n",
       "  0,\n",
       "  0,\n",
       "  0,\n",
       "  0,\n",
       "  0,\n",
       "  0,\n",
       "  0,\n",
       "  0,\n",
       "  0,\n",
       "  0,\n",
       "  0,\n",
       "  0,\n",
       "  0,\n",
       "  0,\n",
       "  0,\n",
       "  0,\n",
       "  0,\n",
       "  0,\n",
       "  0,\n",
       "  0,\n",
       "  0,\n",
       "  0,\n",
       "  0,\n",
       "  0],\n",
       " [43,\n",
       "  42,\n",
       "  44,\n",
       "  45,\n",
       "  46,\n",
       "  47,\n",
       "  48,\n",
       "  49,\n",
       "  50,\n",
       "  0,\n",
       "  0,\n",
       "  0,\n",
       "  0,\n",
       "  0,\n",
       "  0,\n",
       "  0,\n",
       "  0,\n",
       "  0,\n",
       "  0,\n",
       "  0,\n",
       "  0,\n",
       "  0,\n",
       "  0,\n",
       "  0,\n",
       "  0,\n",
       "  0,\n",
       "  0],\n",
       " [48, 49, 50, 51, 52, 53, 0, 0, 0, 0, 0, 0],\n",
       " [51, 52, 53, 55, 54, 0, 0, 0, 0],\n",
       " [56, 57, 59, 58, 0, 0, 0, 0, 0, 0, 0, 0, 0, 0, 0],\n",
       " [59, 58, 60, 61, 0, 0, 0, 0, 0, 0, 0, 0, 0, 0],\n",
       " [60, 58, 61, 0, 0, 0]]"
      ]
     },
     "execution_count": 15,
     "metadata": {},
     "output_type": "execute_result"
    }
   ],
   "source": [
    "list_of_group_numbers"
   ]
  },
  {
   "cell_type": "code",
   "execution_count": 16,
   "id": "c0ad12d3",
   "metadata": {},
   "outputs": [
    {
     "data": {
      "text/plain": [
       "2    3\n",
       "Name: group_size, dtype: int64"
      ]
     },
     "execution_count": 16,
     "metadata": {},
     "output_type": "execute_result"
    }
   ],
   "source": [
    "groups.loc[groups['group_number'] == 3].group_size"
   ]
  },
  {
   "cell_type": "code",
   "execution_count": 17,
   "id": "3fad7ccf",
   "metadata": {},
   "outputs": [
    {
     "name": "stdout",
     "output_type": "stream",
     "text": [
      "[2, 1, 3, 0, 0, 0, 0, 0, 3, 4, 0, 0, 0, 0, 0, 0, 0, 0, 0, 0, 5, 6, 0, 0, 0, 0, 0, 0, 0, 0, 0, 0, 0, 0, 0, 0, 0, 7, 0, 0, 0, 0, 0, 0, 0, 8, 9, 0, 0, 0, 0, 0, 0, 0, 0, 0, 9, 10, 0, 0, 0, 0, 0, 0, 0, 0, 0, 11, 12, 0, 0, 0, 0, 0, 0, 0, 13, 14, 0, 0, 0, 0, 0, 0, 0, 0, 13, 14, 15, 16, 18, 17, 0, 0, 0, 0, 0, 0, 0, 0, 0, 0, 0, 0, 0, 0, 16, 18, 17, 0, 0, 0, 0, 0, 0, 0, 0, 19, 0, 0, 0, 0, 0, 0, 0, 0, 0, 20, 21, 0, 0, 0, 0, 0, 0, 0, 0, 0, 0, 21, 22, 23, 0, 0, 0, 0, 0, 0, 0, 0, 23, 24, 25, 0, 0, 0, 0, 0, 0, 0, 0, 25, 0, 0, 0, 0, 0, 0, 0, 0, 0, 26, 0, 0, 0, 0, 0, 0, 0, 0, 0, 0, 0, 26, 28, 27, 29, 0, 0, 0, 0, 0, 0, 0, 0, 0, 0, 0, 0, 0, 28, 27, 29, 0, 0, 0, 0, 0, 0, 0, 0, 0, 0, 0, 0, 31, 30, 0, 0, 0, 0, 0, 0, 0, 0, 0, 0, 0, 0, 0, 31, 30, 32, 33, 34, 0, 0, 0, 0, 0, 0, 0, 0, 0, 0, 0, 0, 0, 33, 34, 35, 0, 0, 0, 0, 0, 0, 0, 0, 0, 35, 38, 36, 37, 0, 0, 0, 0, 0, 0, 0, 0, 0, 0, 0, 0, 0, 38, 36, 37, 39, 40, 0, 0, 0, 0, 0, 0, 0, 0, 0, 40, 37, 41, 43, 42, 44, 0, 0, 0, 0, 0, 0, 0, 0, 0, 0, 0, 0, 0, 0, 0, 0, 0, 0, 0, 0, 0, 0, 0, 0, 0, 0, 0, 43, 42, 44, 45, 46, 47, 48, 49, 50, 0, 0, 0, 0, 0, 0, 0, 0, 0, 0, 0, 0, 0, 0, 0, 0, 0, 0, 48, 49, 50, 51, 52, 53, 0, 0, 0, 0, 0, 0, 51, 52, 53, 55, 54, 0, 0, 0, 0, 56, 57, 59, 58, 0, 0, 0, 0, 0, 0, 0, 0, 0, 0, 0, 59, 58, 60, 61, 0, 0, 0, 0, 0, 0, 0, 0, 0, 0, 60, 58, 61, 0, 0, 0]\n"
     ]
    }
   ],
   "source": [
    "import itertools\n",
    "merged = list(itertools.chain(*list_of_group_numbers))\n",
    "print(merged)\n",
    "#plt.hist(merged)\n",
    "for i in range(len(merged)):\n",
    "    if merged[i] != 0:\n",
    "        for j in groups['group_number']:\n",
    "            if j == merged[i]:\n",
    "                merged[i] = groups[groups['group_number'] == j]['group_size'].item()"
   ]
  },
  {
   "cell_type": "code",
   "execution_count": 18,
   "id": "cd51838c",
   "metadata": {},
   "outputs": [
    {
     "name": "stdout",
     "output_type": "stream",
     "text": [
      "[3, 3, 3, 0, 0, 0, 0, 0, 3, 2, 0, 0, 0, 0, 0, 0, 0, 0, 0, 0, 2, 2, 0, 0, 0, 0, 0, 0, 0, 0, 0, 0, 0, 0, 0, 0, 0, 4, 0, 0, 0, 0, 0, 0, 0, 2, 2, 0, 0, 0, 0, 0, 0, 0, 0, 0, 2, 2, 0, 0, 0, 0, 0, 0, 0, 0, 0, 4, 3, 0, 0, 0, 0, 0, 0, 0, 2, 2, 0, 0, 0, 0, 0, 0, 0, 0, 2, 2, 2, 3, 2, 2, 0, 0, 0, 0, 0, 0, 0, 0, 0, 0, 0, 0, 0, 0, 3, 2, 2, 0, 0, 0, 0, 0, 0, 0, 0, 2, 0, 0, 0, 0, 0, 0, 0, 0, 0, 2, 2, 0, 0, 0, 0, 0, 0, 0, 0, 0, 0, 2, 3, 2, 0, 0, 0, 0, 0, 0, 0, 0, 2, 2, 2, 0, 0, 0, 0, 0, 0, 0, 0, 2, 0, 0, 0, 0, 0, 0, 0, 0, 0, 2, 0, 0, 0, 0, 0, 0, 0, 0, 0, 0, 0, 2, 2, 2, 3, 0, 0, 0, 0, 0, 0, 0, 0, 0, 0, 0, 0, 0, 2, 2, 3, 0, 0, 0, 0, 0, 0, 0, 0, 0, 0, 0, 0, 2, 2, 0, 0, 0, 0, 0, 0, 0, 0, 0, 0, 0, 0, 0, 2, 2, 2, 3, 2, 0, 0, 0, 0, 0, 0, 0, 0, 0, 0, 0, 0, 0, 3, 2, 2, 0, 0, 0, 0, 0, 0, 0, 0, 0, 2, 2, 4, 4, 0, 0, 0, 0, 0, 0, 0, 0, 0, 0, 0, 0, 0, 2, 4, 4, 2, 3, 0, 0, 0, 0, 0, 0, 0, 0, 0, 3, 4, 2, 6, 2, 4, 0, 0, 0, 0, 0, 0, 0, 0, 0, 0, 0, 0, 0, 0, 0, 0, 0, 0, 0, 0, 0, 0, 0, 0, 0, 0, 0, 6, 2, 4, 4, 2, 2, 4, 2, 2, 0, 0, 0, 0, 0, 0, 0, 0, 0, 0, 0, 0, 0, 0, 0, 0, 0, 0, 4, 2, 2, 5, 5, 5, 0, 0, 0, 0, 0, 0, 5, 5, 5, 2, 6, 0, 0, 0, 0, 2, 2, 3, 2, 0, 0, 0, 0, 0, 0, 0, 0, 0, 0, 0, 3, 2, 2, 3, 0, 0, 0, 0, 0, 0, 0, 0, 0, 0, 2, 2, 3, 0, 0, 0]\n"
     ]
    }
   ],
   "source": [
    "print(merged)"
   ]
  },
  {
   "cell_type": "code",
   "execution_count": 19,
   "id": "0ca72ed8",
   "metadata": {},
   "outputs": [
    {
     "data": {
      "text/plain": [
       "array([  1.,   2.,   3.,   5.,   4.,   6.,   7.,   8.,   9.,  10.,  12.,\n",
       "        11.,  13.,  14.,  15.,  16.,  17.,  18.,  20.,  21.,  22.,  25.,\n",
       "        23.,  24.,  26.,  27.,  28.,  29.,  30.,  31.,  33.,  34.,  35.,\n",
       "        36.,  37.,  38.,  39.,  40.,  41.,  42.,  44.,  43.,  45.,  46.,\n",
       "        47.,  48.,  49.,  54.,  53.,  50.,  55.,  57.,  56.,  51.,  52.,\n",
       "        58.,  59.,  60.,  61.,  62.,  63.,  67.,  66.,  65.,  64.,  68.,\n",
       "        69.,  72.,  73.,  70.,  71.,  76.,  75.,  74.,  78.,  77.,  79.,\n",
       "        80.,  81.,  82.,  83.,  85.,  84.,  86.,  87.,  90.,  89.,  88.,\n",
       "        91.,  92.,  93.,  94.,  95.,  96.,  97.,  99.,  98., 100., 101.,\n",
       "       108., 103., 104., 105., 106., 107., 109., 110., 111., 112., 113.,\n",
       "       114., 115., 116., 117., 118., 119., 120., 122., 121., 123., 124.,\n",
       "       125., 126., 127., 128., 129., 130., 131., 132., 133., 134., 135.,\n",
       "       136., 137., 138., 139., 140., 141., 142., 143., 144., 145., 146.,\n",
       "       147., 148., 149., 150., 151., 152., 155., 154., 153., 156., 157.,\n",
       "       159., 160., 161., 162., 163., 164., 166., 167., 168., 169., 170.,\n",
       "       171., 172., 173., 175., 174., 176., 177., 178., 179., 182., 184.,\n",
       "       183., 181., 180., 185., 187., 186., 188., 189., 190., 191., 193.,\n",
       "       192., 194., 195., 196., 197., 198., 199., 200., 201., 202., 203.,\n",
       "       204., 205., 206., 207., 208., 209., 211., 210., 212., 214., 213.,\n",
       "       215., 217., 218., 216., 220., 219., 221., 222., 223., 224., 226.,\n",
       "       228., 227., 229., 230., 231., 232., 233., 234., 235., 236., 241.,\n",
       "       242., 240., 237., 239., 238., 243., 244., 245., 246., 249., 248.,\n",
       "       247., 251., 253., 252., 250., 254., 255., 256., 257., 258., 259.,\n",
       "       260., 261., 262., 272., 269., 270., 266., 268., 265., 267., 263.,\n",
       "       264., 273., 274., 275., 277., 276., 278., 279., 280., 281., 282.,\n",
       "       283., 284., 286., 285., 287., 288., 289., 290., 291., 292., 293.,\n",
       "       299., 295., 296., 297., 298., 300., 301., 302., 294., 303., 304.,\n",
       "       305., 306., 310., 307., 309., 308., 312., 311., 313., 314., 315.,\n",
       "       316., 317., 318., 319., 320., 321., 322., 323., 324., 326., 325.,\n",
       "       327., 329., 328., 330., 331., 332., 333., 339., 334., 337., 336.,\n",
       "       338., 335., 340., 341., 342., 343., 344., 345., 347., 346., 348.,\n",
       "       349., 350., 351., 352., 353., 354., 355., 356., 359., 358., 357.,\n",
       "       360., 361., 362., 363., 366., 364., 365., 367.])"
      ]
     },
     "execution_count": 19,
     "metadata": {},
     "output_type": "execute_result"
    }
   ],
   "source": [
    "data['pedestrian_ID'].unique()"
   ]
  },
  {
   "cell_type": "code",
   "execution_count": 20,
   "id": "65531859",
   "metadata": {},
   "outputs": [
    {
     "data": {
      "text/plain": [
       "(array([308.,   0.,  60.,  18.,  12.,   6.,   3.]),\n",
       " array([0.        , 0.85714286, 1.71428571, 2.57142857, 3.42857143,\n",
       "        4.28571429, 5.14285714, 6.        ]),\n",
       " <BarContainer object of 7 artists>)"
      ]
     },
     "execution_count": 20,
     "metadata": {},
     "output_type": "execute_result"
    },
    {
     "data": {
      "image/png": "[encoded data removed]",
      "text/plain": [
       "<Figure size 432x288 with 1 Axes>"
      ]
     },
     "metadata": {
      "needs_background": "light"
     },
     "output_type": "display_data"
    }
   ],
   "source": [
    "plt.hist(merged, bins = 7)"
   ]
  },
  {
   "cell_type": "code",
   "execution_count": 21,
   "id": "cf2b7eb9",
   "metadata": {},
   "outputs": [],
   "source": [
    "list_of_groups_as_zeros = copy.deepcopy(list_of_group_numbers)"
   ]
  },
  {
   "cell_type": "code",
   "execution_count": 22,
   "id": "734f2b3d",
   "metadata": {},
   "outputs": [],
   "source": [
    "for i in range(len(list_of_groups_as_zeros)):\n",
    "    for j in range(len(list_of_groups_as_zeros[i])):\n",
    "        if list_of_groups_as_zeros[i][j] != 0:\n",
    "            list_of_groups_as_zeros[i][j] = groups.loc[groups['group_number'] == list_of_groups_as_zeros[i][j]]['group_size'].item()*[0]\n",
    "        else:\n",
    "            list_of_groups_as_zeros[i][j] = [0]\n",
    "    list_of_groups_as_zeros[i] = list(itertools.chain(*list_of_groups_as_zeros[i]))"
   ]
  },
  {
   "cell_type": "code",
   "execution_count": 23,
   "id": "3d949fad",
   "metadata": {},
   "outputs": [
    {
     "data": {
      "text/plain": [
       "[[2, 1, 3, 0, 0, 0, 0, 0],\n",
       " [3, 4, 0, 0, 0, 0, 0, 0, 0, 0, 0, 0],\n",
       " [5, 6, 0, 0, 0, 0, 0, 0, 0, 0, 0],\n",
       " [0, 0, 0, 0, 0, 0],\n",
       " [7, 0, 0, 0, 0, 0, 0, 0],\n",
       " [8, 9, 0, 0, 0, 0, 0, 0, 0, 0, 0],\n",
       " [9, 10, 0, 0, 0, 0, 0, 0, 0, 0, 0],\n",
       " [11, 12, 0, 0, 0, 0, 0, 0, 0],\n",
       " [13, 14, 0, 0, 0, 0, 0, 0, 0, 0],\n",
       " [13, 14, 15, 16, 18, 17, 0, 0, 0, 0, 0, 0, 0, 0, 0, 0, 0, 0, 0, 0],\n",
       " [16, 18, 17, 0, 0, 0, 0, 0, 0, 0, 0],\n",
       " [19, 0, 0, 0, 0, 0, 0, 0, 0, 0],\n",
       " [20, 21, 0, 0, 0, 0, 0, 0, 0, 0, 0, 0],\n",
       " [21, 22, 23, 0, 0, 0, 0, 0, 0, 0, 0],\n",
       " [23, 24, 25, 0, 0, 0, 0, 0, 0, 0, 0],\n",
       " [25, 0, 0, 0, 0, 0, 0, 0, 0, 0],\n",
       " [26, 0, 0, 0, 0, 0, 0, 0, 0, 0, 0, 0],\n",
       " [26, 28, 27, 29, 0, 0, 0, 0, 0, 0, 0, 0, 0, 0, 0, 0, 0],\n",
       " [28, 27, 29, 0, 0, 0, 0, 0, 0, 0, 0, 0, 0, 0, 0],\n",
       " [31, 30, 0, 0, 0, 0, 0, 0, 0, 0, 0, 0, 0, 0, 0],\n",
       " [31, 30, 32, 33, 34, 0, 0, 0, 0, 0, 0, 0, 0, 0, 0, 0, 0, 0],\n",
       " [33, 34, 35, 0, 0, 0, 0, 0, 0, 0, 0, 0],\n",
       " [35, 38, 36, 37, 0, 0, 0, 0, 0, 0, 0, 0, 0, 0, 0, 0, 0],\n",
       " [38, 36, 37, 39, 40, 0, 0, 0, 0, 0, 0, 0, 0, 0],\n",
       " [40,\n",
       "  37,\n",
       "  41,\n",
       "  43,\n",
       "  42,\n",
       "  44,\n",
       "  0,\n",
       "  0,\n",
       "  0,\n",
       "  0,\n",
       "  0,\n",
       "  0,\n",
       "  0,\n",
       "  0,\n",
       "  0,\n",
       "  0,\n",
       "  0,\n",
       "  0,\n",
       "  0,\n",
       "  0,\n",
       "  0,\n",
       "  0,\n",
       "  0,\n",
       "  0,\n",
       "  0,\n",
       "  0,\n",
       "  0,\n",
       "  0,\n",
       "  0,\n",
       "  0,\n",
       "  0,\n",
       "  0,\n",
       "  0],\n",
       " [43,\n",
       "  42,\n",
       "  44,\n",
       "  45,\n",
       "  46,\n",
       "  47,\n",
       "  48,\n",
       "  49,\n",
       "  50,\n",
       "  0,\n",
       "  0,\n",
       "  0,\n",
       "  0,\n",
       "  0,\n",
       "  0,\n",
       "  0,\n",
       "  0,\n",
       "  0,\n",
       "  0,\n",
       "  0,\n",
       "  0,\n",
       "  0,\n",
       "  0,\n",
       "  0,\n",
       "  0,\n",
       "  0,\n",
       "  0],\n",
       " [48, 49, 50, 51, 52, 53, 0, 0, 0, 0, 0, 0],\n",
       " [51, 52, 53, 55, 54, 0, 0, 0, 0],\n",
       " [56, 57, 59, 58, 0, 0, 0, 0, 0, 0, 0, 0, 0, 0, 0],\n",
       " [59, 58, 60, 61, 0, 0, 0, 0, 0, 0, 0, 0, 0, 0],\n",
       " [60, 58, 61, 0, 0, 0]]"
      ]
     },
     "execution_count": 23,
     "metadata": {},
     "output_type": "execute_result"
    }
   ],
   "source": [
    "list_of_group_numbers"
   ]
  },
  {
   "cell_type": "code",
   "execution_count": 24,
   "id": "4f17b57a",
   "metadata": {},
   "outputs": [
    {
     "data": {
      "text/plain": [
       "[[0, 0, 0, 0, 0, 0, 0, 0, 0, 0, 0, 0, 0],\n",
       " [0, 0, 0, 0, 0, 0, 0, 0, 0, 0, 0, 0, 0, 0, 0, 0, 0, 0, 0],\n",
       " [0, 0, 0, 0, 0, 0, 0, 0, 0, 0, 0, 0, 0],\n",
       " [0, 0, 0, 0, 0, 0],\n",
       " [0, 0, 0, 0, 0, 0, 0, 0, 0, 0, 0],\n",
       " [0, 0, 0, 0, 0, 0, 0, 0, 0, 0, 0, 0, 0],\n",
       " [0, 0, 0, 0, 0, 0, 0, 0, 0, 0, 0, 0, 0],\n",
       " [0, 0, 0, 0, 0, 0, 0, 0, 0, 0, 0, 0, 0, 0],\n",
       " [0, 0, 0, 0, 0, 0, 0, 0, 0, 0, 0, 0],\n",
       " [0,\n",
       "  0,\n",
       "  0,\n",
       "  0,\n",
       "  0,\n",
       "  0,\n",
       "  0,\n",
       "  0,\n",
       "  0,\n",
       "  0,\n",
       "  0,\n",
       "  0,\n",
       "  0,\n",
       "  0,\n",
       "  0,\n",
       "  0,\n",
       "  0,\n",
       "  0,\n",
       "  0,\n",
       "  0,\n",
       "  0,\n",
       "  0,\n",
       "  0,\n",
       "  0,\n",
       "  0,\n",
       "  0,\n",
       "  0],\n",
       " [0, 0, 0, 0, 0, 0, 0, 0, 0, 0, 0, 0, 0, 0, 0],\n",
       " [0, 0, 0, 0, 0, 0, 0, 0, 0, 0, 0],\n",
       " [0, 0, 0, 0, 0, 0, 0, 0, 0, 0, 0, 0, 0, 0],\n",
       " [0, 0, 0, 0, 0, 0, 0, 0, 0, 0, 0, 0, 0, 0, 0],\n",
       " [0, 0, 0, 0, 0, 0, 0, 0, 0, 0, 0, 0, 0, 0],\n",
       " [0, 0, 0, 0, 0, 0, 0, 0, 0, 0, 0],\n",
       " [0, 0, 0, 0, 0, 0, 0, 0, 0, 0, 0, 0, 0],\n",
       " [0, 0, 0, 0, 0, 0, 0, 0, 0, 0, 0, 0, 0, 0, 0, 0, 0, 0, 0, 0, 0, 0],\n",
       " [0, 0, 0, 0, 0, 0, 0, 0, 0, 0, 0, 0, 0, 0, 0, 0, 0, 0, 0],\n",
       " [0, 0, 0, 0, 0, 0, 0, 0, 0, 0, 0, 0, 0, 0, 0, 0, 0],\n",
       " [0, 0, 0, 0, 0, 0, 0, 0, 0, 0, 0, 0, 0, 0, 0, 0, 0, 0, 0, 0, 0, 0, 0, 0],\n",
       " [0, 0, 0, 0, 0, 0, 0, 0, 0, 0, 0, 0, 0, 0, 0, 0],\n",
       " [0, 0, 0, 0, 0, 0, 0, 0, 0, 0, 0, 0, 0, 0, 0, 0, 0, 0, 0, 0, 0, 0, 0, 0, 0],\n",
       " [0, 0, 0, 0, 0, 0, 0, 0, 0, 0, 0, 0, 0, 0, 0, 0, 0, 0, 0, 0, 0, 0, 0, 0],\n",
       " [0,\n",
       "  0,\n",
       "  0,\n",
       "  0,\n",
       "  0,\n",
       "  0,\n",
       "  0,\n",
       "  0,\n",
       "  0,\n",
       "  0,\n",
       "  0,\n",
       "  0,\n",
       "  0,\n",
       "  0,\n",
       "  0,\n",
       "  0,\n",
       "  0,\n",
       "  0,\n",
       "  0,\n",
       "  0,\n",
       "  0,\n",
       "  0,\n",
       "  0,\n",
       "  0,\n",
       "  0,\n",
       "  0,\n",
       "  0,\n",
       "  0,\n",
       "  0,\n",
       "  0,\n",
       "  0,\n",
       "  0,\n",
       "  0,\n",
       "  0,\n",
       "  0,\n",
       "  0,\n",
       "  0,\n",
       "  0,\n",
       "  0,\n",
       "  0,\n",
       "  0,\n",
       "  0,\n",
       "  0,\n",
       "  0,\n",
       "  0,\n",
       "  0,\n",
       "  0,\n",
       "  0],\n",
       " [0,\n",
       "  0,\n",
       "  0,\n",
       "  0,\n",
       "  0,\n",
       "  0,\n",
       "  0,\n",
       "  0,\n",
       "  0,\n",
       "  0,\n",
       "  0,\n",
       "  0,\n",
       "  0,\n",
       "  0,\n",
       "  0,\n",
       "  0,\n",
       "  0,\n",
       "  0,\n",
       "  0,\n",
       "  0,\n",
       "  0,\n",
       "  0,\n",
       "  0,\n",
       "  0,\n",
       "  0,\n",
       "  0,\n",
       "  0,\n",
       "  0,\n",
       "  0,\n",
       "  0,\n",
       "  0,\n",
       "  0,\n",
       "  0,\n",
       "  0,\n",
       "  0,\n",
       "  0,\n",
       "  0,\n",
       "  0,\n",
       "  0,\n",
       "  0,\n",
       "  0,\n",
       "  0,\n",
       "  0,\n",
       "  0,\n",
       "  0,\n",
       "  0],\n",
       " [0,\n",
       "  0,\n",
       "  0,\n",
       "  0,\n",
       "  0,\n",
       "  0,\n",
       "  0,\n",
       "  0,\n",
       "  0,\n",
       "  0,\n",
       "  0,\n",
       "  0,\n",
       "  0,\n",
       "  0,\n",
       "  0,\n",
       "  0,\n",
       "  0,\n",
       "  0,\n",
       "  0,\n",
       "  0,\n",
       "  0,\n",
       "  0,\n",
       "  0,\n",
       "  0,\n",
       "  0,\n",
       "  0,\n",
       "  0,\n",
       "  0,\n",
       "  0],\n",
       " [0,\n",
       "  0,\n",
       "  0,\n",
       "  0,\n",
       "  0,\n",
       "  0,\n",
       "  0,\n",
       "  0,\n",
       "  0,\n",
       "  0,\n",
       "  0,\n",
       "  0,\n",
       "  0,\n",
       "  0,\n",
       "  0,\n",
       "  0,\n",
       "  0,\n",
       "  0,\n",
       "  0,\n",
       "  0,\n",
       "  0,\n",
       "  0,\n",
       "  0,\n",
       "  0,\n",
       "  0,\n",
       "  0,\n",
       "  0],\n",
       " [0, 0, 0, 0, 0, 0, 0, 0, 0, 0, 0, 0, 0, 0, 0, 0, 0, 0, 0, 0],\n",
       " [0, 0, 0, 0, 0, 0, 0, 0, 0, 0, 0, 0, 0, 0, 0, 0, 0, 0, 0, 0],\n",
       " [0, 0, 0, 0, 0, 0, 0, 0, 0, 0]]"
      ]
     },
     "execution_count": 24,
     "metadata": {},
     "output_type": "execute_result"
    }
   ],
   "source": [
    "list_of_groups_as_zeros"
   ]
  },
  {
   "cell_type": "code",
   "execution_count": 25,
   "id": "81bfe6bb",
   "metadata": {},
   "outputs": [],
   "source": [
    "list_of_groupsas2 = copy.deepcopy(list_of_group_numbers)"
   ]
  },
  {
   "cell_type": "code",
   "execution_count": 26,
   "id": "591dbb2f",
   "metadata": {},
   "outputs": [],
   "source": [
    "for i in range(len(list_of_groupsas2)):\n",
    "    for j in range(len(list_of_groupsas2[i])):\n",
    "        if list_of_groupsas2[i][j] != 0:\n",
    "            list_of_groupsas2[i][j] = [0,0]\n",
    "        else:\n",
    "            list_of_groupsas2[i][j] = [0]\n",
    "    list_of_groupsas2[i] = list(itertools.chain(*list_of_groupsas2[i]))"
   ]
  },
  {
   "cell_type": "code",
   "execution_count": 27,
   "id": "a2cbed21",
   "metadata": {},
   "outputs": [],
   "source": [
    "length_ind = []\n",
    "length_group_and_ind = []\n",
    "length_groupas2_and_ind = []\n",
    "for i in range(len(list_of_groups_as_zeros)):\n",
    "    length_ind.append(len(list_of_groups_as_zeros[i]))\n",
    "for i in range(len(list_of_group_numbers)):\n",
    "    length_group_and_ind.append(len(list_of_group_numbers[i]))\n",
    "for i in range(len(list_of_groupsas2)):\n",
    "    length_groupas2_and_ind.append(len(list_of_groupsas2[i]))\n",
    "            "
   ]
  },
  {
   "cell_type": "code",
   "execution_count": 28,
   "id": "e308986f",
   "metadata": {},
   "outputs": [],
   "source": [
    "def square(list):\n",
    "    return [i ** 2 for i in list]"
   ]
  },
  {
   "cell_type": "code",
   "execution_count": 29,
   "id": "7a429d41",
   "metadata": {},
   "outputs": [
    {
     "data": {
      "text/plain": [
       "<matplotlib.legend.Legend at 0x1eb0a462df0>"
      ]
     },
     "execution_count": 29,
     "metadata": {},
     "output_type": "execute_result"
    },
    {
     "data": {
      "image/png": "[encoded data removed]",
      "text/plain": [
       "<Figure size 432x288 with 1 Axes>"
      ]
     },
     "metadata": {
      "needs_background": "light"
     },
     "output_type": "display_data"
    }
   ],
   "source": [
    "plt.scatter(length_ind,square(length_ind), color ='r', label='total individuals')\n",
    "plt.scatter(length_group_and_ind,square(length_group_and_ind), color ='b', label='number of ind & groups')\n",
    "plt.scatter(length_groupas2_and_ind,square(length_groupas2_and_ind), color ='g', label='ind as 1 and groups as 2')\n",
    "plt.legend()\n"
   ]
  },
  {
   "cell_type": "code",
   "execution_count": 30,
   "id": "dcfd5a73",
   "metadata": {},
   "outputs": [
    {
     "data": {
      "text/plain": [
       "<matplotlib.legend.Legend at 0x1eb0a4b4c10>"
      ]
     },
     "execution_count": 30,
     "metadata": {},
     "output_type": "execute_result"
    },
    {
     "data": {
      "image/png": "[encoded data removed]",
      "text/plain": [
       "<Figure size 432x288 with 1 Axes>"
      ]
     },
     "metadata": {
      "needs_background": "light"
     },
     "output_type": "display_data"
    }
   ],
   "source": [
    "plt.scatter(length_ind,square(length_ind), color ='r', label='total individuals')\n",
    "plt.scatter(length_ind,square(length_group_and_ind), color ='b', label='number of ind & groups')\n",
    "plt.scatter(length_ind,square(length_groupas2_and_ind), color ='g', label='ind as 1 and groups as 2')\n",
    "plt.legend()\n"
   ]
  },
  {
   "cell_type": "code",
   "execution_count": 31,
   "id": "616bf37d",
   "metadata": {},
   "outputs": [],
   "source": [
    "from scipy.optimize import curve_fit"
   ]
  },
  {
   "cell_type": "code",
   "execution_count": 32,
   "id": "93bd652b",
   "metadata": {},
   "outputs": [
    {
     "data": {
      "text/plain": [
       "<matplotlib.legend.Legend at 0x1eb0a535160>"
      ]
     },
     "execution_count": 32,
     "metadata": {},
     "output_type": "execute_result"
    },
    {
     "data": {
      "image/png": "[encoded data removed]",
      "text/plain": [
       "<Figure size 432x288 with 1 Axes>"
      ]
     },
     "metadata": {
      "needs_background": "light"
     },
     "output_type": "display_data"
    }
   ],
   "source": [
    "model1 = np.poly1d(np.polyfit(length_ind, square(length_ind), 2))\n",
    "model2 = np.poly1d(np.polyfit(length_ind, square(length_group_and_ind), 2))\n",
    "model3 = np.poly1d(np.polyfit(length_ind, square(length_groupas2_and_ind), 2))\n",
    "polyline = np.linspace(1, 50, 50)\n",
    "plt.plot(polyline, model1(polyline), color='red')\n",
    "plt.plot(polyline, model2(polyline), color='blue')\n",
    "plt.plot(polyline, model3(polyline), color='green')\n",
    "plt.scatter(length_ind,square(length_ind), color ='r', label='total individuals')\n",
    "plt.scatter(length_ind,square(length_group_and_ind), color ='b', label='number of ind & groups')\n",
    "plt.scatter(length_ind,square(length_groupas2_and_ind), color ='g', label='ind as 1 and groups as 2')\n",
    "plt.legend()\n"
   ]
  },
  {
   "cell_type": "code",
   "execution_count": 33,
   "id": "7b36e687",
   "metadata": {},
   "outputs": [
    {
     "name": "stdout",
     "output_type": "stream",
     "text": [
      "total individuals\n",
      "y = -0.00000 * x + 1.00000 * x^2 + -0.00000\n",
      "number of ind & groups\n",
      "y = -6.56814 * x + 0.49574 * x^2 + 109.10951\n",
      "ind as 1 and groups as 2\n",
      "y = -1.13224 * x + 0.62323 * x^2 + 64.15120\n"
     ]
    },
    {
     "data": {
      "image/png": "[encoded data removed]",
      "text/plain": [
       "<Figure size 432x288 with 1 Axes>"
      ]
     },
     "metadata": {
      "needs_background": "light"
     },
     "output_type": "display_data"
    }
   ],
   "source": [
    "def objective(x, a, b, c):\n",
    "    return a * x + b * x**2 + c\n",
    "popt1, _ = curve_fit(objective, length_ind, square(length_ind))\n",
    "a1, b1, c1 = popt1\n",
    "print('total individuals')\n",
    "print('y = %.5f * x + %.5f * x^2 + %.5f' % (a1, b1, c1))\n",
    "plt.scatter(length_ind,  square(length_ind))\n",
    "popt2, _2 = curve_fit(objective, length_ind, square(length_group_and_ind))\n",
    "a2, b2, c2 = popt2\n",
    "print('number of ind & groups')\n",
    "print('y = %.5f * x + %.5f * x^2 + %.5f' % (a2, b2, c2))\n",
    "plt.scatter(length_ind,  square(length_group_and_ind))\n",
    "popt3, _3 = curve_fit(objective, length_ind, square(length_groupas2_and_ind))\n",
    "a3, b3, c3 = popt3\n",
    "print('ind as 1 and groups as 2')\n",
    "print('y = %.5f * x + %.5f * x^2 + %.5f' % (a3, b3, c3))\n",
    "plt.scatter(length_ind,  square(length_groupas2_and_ind))\n",
    "x_line = np.arange(min(length_ind), max(length_ind), 1)\n",
    "# calculate the output for the range\n",
    "y_line1 = objective(x_line, a1, b1, c1)\n",
    "y_line2 = objective(x_line, a2, b2, c2)\n",
    "y_line3 = objective(x_line, a3, b3, c3)\n",
    "# create a line plot for the mapping function\n",
    "plt.plot(x_line, y_line1, '--', color='red', label='total individuals')\n",
    "plt.plot(x_line, y_line2, '.', color='black', label='number of ind & groups')\n",
    "plt.plot(x_line, y_line3, '*', color='purple', label='ind as 1 and groups as 2')\n",
    "plt.legend()\n",
    "plt.show()"
   ]
  },
  {
   "cell_type": "code",
   "execution_count": 34,
   "id": "be11b044",
   "metadata": {},
   "outputs": [
    {
     "data": {
      "text/plain": [
       "31"
      ]
     },
     "execution_count": 34,
     "metadata": {},
     "output_type": "execute_result"
    }
   ],
   "source": [
    "len(length_ind)"
   ]
  },
  {
   "cell_type": "code",
   "execution_count": 35,
   "id": "b6792706",
   "metadata": {},
   "outputs": [
    {
     "name": "stdout",
     "output_type": "stream",
     "text": [
      "total individuals\n",
      "y = -20.78420 * x + 2.81265 * x^2 + 139.56582\n",
      "number of ind & groups\n",
      "y = -0.00000 * x + 1.00000 * x^2 + -0.00000\n",
      "ind as 1 and groups as 2\n",
      "y = 11.76349 * x + 1.21008 * x^2 + -84.36050\n"
     ]
    },
    {
     "data": {
      "image/png": "[encoded data removed]",
      "text/plain": [
       "<Figure size 432x288 with 1 Axes>"
      ]
     },
     "metadata": {
      "needs_background": "light"
     },
     "output_type": "display_data"
    }
   ],
   "source": [
    "def objective(x, a, b, c):\n",
    "    return a * x + b * x**2 + c\n",
    "popt1, _ = curve_fit(objective, length_group_and_ind, square(length_ind))\n",
    "a1, b1, c1 = popt1\n",
    "print('total individuals')\n",
    "print('y = %.5f * x + %.5f * x^2 + %.5f' % (a1, b1, c1))\n",
    "plt.scatter(length_group_and_ind,  square(length_ind))\n",
    "popt2, _2 = curve_fit(objective, length_group_and_ind, square(length_group_and_ind))\n",
    "a2, b2, c2 = popt2\n",
    "print('number of ind & groups')\n",
    "print('y = %.5f * x + %.5f * x^2 + %.5f' % (a2, b2, c2))\n",
    "plt.scatter(length_group_and_ind,  square(length_group_and_ind))\n",
    "popt3, _3 = curve_fit(objective, length_group_and_ind, square(length_groupas2_and_ind))\n",
    "a3, b3, c3 = popt3\n",
    "print('ind as 1 and groups as 2')\n",
    "print('y = %.5f * x + %.5f * x^2 + %.5f' % (a3, b3, c3))\n",
    "plt.scatter(length_group_and_ind,  square(length_groupas2_and_ind))\n",
    "x_line = np.arange(min(length_group_and_ind), max(length_group_and_ind), 1)\n",
    "# calculate the output for the range\n",
    "y_line1 = objective(x_line, a1, b1, c1)\n",
    "y_line2 = objective(x_line, a2, b2, c2)\n",
    "y_line3 = objective(x_line, a3, b3, c3)\n",
    "# create a line plot for the mapping function\n",
    "plt.plot(x_line, y_line1, '--', color='red', label='total individuals')\n",
    "plt.plot(x_line, y_line2, '.', color='black', label='number of ind & groups')\n",
    "plt.plot(x_line, y_line3, '*', color='purple', label='ind as 1 and groups as 2')\n",
    "plt.legend()\n",
    "plt.show()"
   ]
  },
  {
   "cell_type": "code",
   "execution_count": 36,
   "id": "9d95813a",
   "metadata": {},
   "outputs": [
    {
     "name": "stdout",
     "output_type": "stream",
     "text": [
      "total individuals\n",
      "y = -19.59198 * x + 1.95145 * x^2 + 141.34875\n",
      "number of ind & groups\n",
      "y = -6.61668 * x + 0.78306 * x^2 + 63.77023\n",
      "ind as 1 and groups as 2\n",
      "y = -0.00000 * x + 1.00000 * x^2 + -0.00000\n"
     ]
    },
    {
     "data": {
      "image/png": "[encoded data removed]",
      "text/plain": [
       "<Figure size 432x288 with 1 Axes>"
      ]
     },
     "metadata": {
      "needs_background": "light"
     },
     "output_type": "display_data"
    }
   ],
   "source": [
    "def objective(x, a, b, c):\n",
    "    return a * x + b * x**2 + c\n",
    "popt1, _ = curve_fit(objective, length_groupas2_and_ind, square(length_ind))\n",
    "a1, b1, c1 = popt1\n",
    "print('total individuals')\n",
    "print('y = %.5f * x + %.5f * x^2 + %.5f' % (a1, b1, c1))\n",
    "plt.scatter(length_groupas2_and_ind,  square(length_ind))\n",
    "popt2, _2 = curve_fit(objective, length_groupas2_and_ind, square(length_group_and_ind))\n",
    "a2, b2, c2 = popt2\n",
    "print('number of ind & groups')\n",
    "print('y = %.5f * x + %.5f * x^2 + %.5f' % (a2, b2, c2))\n",
    "plt.scatter(length_groupas2_and_ind,  square(length_group_and_ind))\n",
    "popt3, _3 = curve_fit(objective, length_groupas2_and_ind, square(length_groupas2_and_ind))\n",
    "a3, b3, c3 = popt3\n",
    "print('ind as 1 and groups as 2')\n",
    "print('y = %.5f * x + %.5f * x^2 + %.5f' % (a3, b3, c3))\n",
    "plt.scatter(length_groupas2_and_ind,  square(length_groupas2_and_ind))\n",
    "x_line = np.arange(min(length_groupas2_and_ind), max(length_groupas2_and_ind), 1)\n",
    "# calculate the output for the range\n",
    "y_line1 = objective(x_line, a1, b1, c1)\n",
    "y_line2 = objective(x_line, a2, b2, c2)\n",
    "y_line3 = objective(x_line, a3, b3, c3)\n",
    "# create a line plot for the mapping function\n",
    "plt.plot(x_line, y_line1, '--', color='red', label='total individuals')\n",
    "plt.plot(x_line, y_line2, '.', color='black', label='number of ind & groups')\n",
    "plt.plot(x_line, y_line3, '*', color='purple', label='ind as 1 and groups as 2')\n",
    "plt.legend()\n",
    "plt.show()"
   ]
  },
  {
   "cell_type": "code",
   "execution_count": null,
   "id": "75ff684b",
   "metadata": {},
   "outputs": [],
   "source": []
  }
 ],
 "metadata": {
  "kernelspec": {
   "display_name": "Python 3 (ipykernel)",
   "language": "python",
   "name": "python3"
  },
  "language_info": {
   "codemirror_mode": {
    "name": "ipython",
    "version": 3
   },
   "file_extension": ".py",
   "mimetype": "text/x-python",
   "name": "python",
   "nbconvert_exporter": "python",
   "pygments_lexer": "ipython3",
   "version": "3.9.7"
  }
 },
 "nbformat": 4,
 "nbformat_minor": 5
}
